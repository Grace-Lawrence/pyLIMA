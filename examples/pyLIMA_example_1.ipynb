{
 "cells": [
  {
   "cell_type": "markdown",
   "metadata": {
    "collapsed": false
   },
   "source": [
    "# Welcome to pyLIMA tutorial! #\n",
    "Let's learn how pyLIMA works by fitting an example.\n",
    "\n",
    "To obtain working link to the documentation, you need to :\n",
    "\n",
    "make html\n",
    "\n",
    "in the doc directory.\n",
    "\n",
    "Please help yourself with the [pyLIMA documentation](file/../../doc/build/html/index.html)\n"
   ]
  },
  {
   "cell_type": "code",
   "execution_count": null,
   "metadata": {
    "collapsed": false
   },
   "outputs": [],
   "source": [
    "### First import the required libraries\n",
    "%matplotlib notebook\n",
    "import numpy as np\n",
    "import matplotlib.pyplot as plt\n",
    "import os, sys\n",
    "\n",
    "from pyLIMA import event\n",
    "from pyLIMA import telescopes\n",
    "from pyLIMA import microlmodels"
   ]
  },
  {
   "cell_type": "markdown",
   "metadata": {},
   "source": [
    "Nothing wrong? \n",
    "Let's go ahead."
   ]
  },
  {
   "cell_type": "markdown",
   "metadata": {},
   "source": [
    "# The event module #\n",
    "We have to define an [event](file/../../doc/build/html/pyLIMA.event.html) object."
   ]
  },
  {
   "cell_type": "code",
   "execution_count": null,
   "metadata": {
    "collapsed": false
   },
   "outputs": [],
   "source": [
    "### Create an event object. You can choose the name and RA,DEC in degrees :\n",
    "\n",
    "your_event = event.Event()\n",
    "your_event.name = 'your choice'\n",
    "your_event.ra = 269.39166666666665 \n",
    "your_event.dec = -29.22083333333333"
   ]
  },
  {
   "cell_type": "markdown",
   "metadata": {},
   "source": [
    "# The telescopes module#\n",
    "To insert data to your event, we need to define  [telescopes](file/../../doc/build/html/pyLIMA.telescopes.html) objects and just add it\n",
    "to the event object telescope list."
   ]
  },
  {
   "cell_type": "code",
   "execution_count": null,
   "metadata": {
    "collapsed": false
   },
   "outputs": [],
   "source": [
    "### Now we need some observations. That's good, we obtain some data on two\n",
    "### telescopes. Both are in I band and magnitude units :\n",
    "\n",
    "data_1 = np.loadtxt('./Survey_1.dat')\n",
    "telescope_1 = telescopes.Telescope(name='OGLE', camera_filter='I', light_curve_magnitude=data_1)\n",
    "\n",
    "data_2 = np.loadtxt('./Followup_1.dat')\n",
    "telescope_2 = telescopes.Telescope(name='LCOGT', camera_filter='I', light_curve_magnitude=data_2)\n",
    "\n",
    "### Add the telescopes to your event :\n",
    "your_event.telescopes.append(telescope_1)\n",
    "your_event.telescopes.append(telescope_2)\n",
    "\n",
    "### Find the survey telescope :\n",
    "your_event.find_survey('OGLE')\n",
    "\n",
    "### Sanity check\n",
    "your_event.check_event()"
   ]
  },
  {
   "cell_type": "markdown",
   "metadata": {},
   "source": [
    "# The model module #\n",
    "We have now to define a [model](file/../../doc/build/html/pyLIMA.microlmodels.html) object that summarizes what kind of model you want to fit.\n",
    "Let's start with a basic PSPL."
   ]
  },
  {
   "cell_type": "code",
   "execution_count": null,
   "metadata": {
    "collapsed": false,
    "scrolled": true
   },
   "outputs": [],
   "source": [
    "### Construct the model you want to fit. Let's go basic with a PSPL, without second_order effects :\n",
    "model_1 = microlmodels.create_model('PSPL', your_event)\n"
   ]
  },
  {
   "cell_type": "markdown",
   "metadata": {},
   "source": [
    "# We are all set now. Just fit by choosing one method #\n",
    "For a summary of fitting options, please go [there](file/../../doc/build/html/pyLIMA.microlfits.html)"
   ]
  },
  {
   "cell_type": "code",
   "execution_count": null,
   "metadata": {
    "collapsed": false
   },
   "outputs": [],
   "source": [
    "### Let's try with the simplest Levenvberg_Marquardt algorithm :\n",
    "your_event.fit(model_1,'LM')\n",
    "\n",
    "### Let's see some plots.\n",
    "your_event.fits[0].produce_outputs()\n",
    "print('Chi2_LM :',your_event.fits[0].outputs.fit_parameters.chichi)\n",
    "plt.show()\n"
   ]
  },
  {
   "cell_type": "markdown",
   "metadata": {},
   "source": [
    "There is some residuals close to the peak, right? And the Chi2 is high also. Maybe the LM algorithm performs poorly, let's try something more powerfull.\n",
    "\n",
    "You can zoom close to the peak to see what is going on. "
   ]
  },
  {
   "cell_type": "code",
   "execution_count": null,
   "metadata": {
    "collapsed": false,
    "scrolled": false
   },
   "outputs": [],
   "source": [
    "### Let's try with differential evolution  algorithm. WAIT UNTIL THE FIGURE POP UP.\n",
    "your_event.fit(model_1,'DE')\n",
    "your_event.fits[1].produce_outputs()\n",
    "print('Chi2_DE :',your_event.fits[1].outputs.fit_parameters.chichi)\n",
    "plt.show()\n"
   ]
  },
  {
   "cell_type": "markdown",
   "metadata": {
    "collapsed": true
   },
   "source": [
    "Well, that's not really better. Maybe there is some other effects in the model?\n",
    "Let's try an FSPL model!\n",
    "\n",
    "\n",
    "You can zoom close to the peak to see what is going on."
   ]
  },
  {
   "cell_type": "code",
   "execution_count": null,
   "metadata": {
    "collapsed": false
   },
   "outputs": [],
   "source": [
    "### Let's go basic for FSPL :\n",
    "model_2 = microlmodels.create_model('FSPL', your_event)\n",
    "\n",
    "your_event.fit(model_2,'LM')\n",
    "\n",
    "### Let's see some plots. You can zoom close to the peak to see what is going on. \n",
    "your_event.fits[-1].produce_outputs()\n",
    "print ('Chi2_LM :',your_event.fits[-1].outputs.fit_parameters.chichi)\n",
    "plt.show()\n"
   ]
  },
  {
   "cell_type": "markdown",
   "metadata": {},
   "source": [
    "That's better, but there is still some deviations around 80.1 days. Any ideas?\n",
    "\n",
    "...\n",
    "\n",
    "...\n",
    "\n",
    "...\n",
    "\n",
    "What about some limb-darkening effects? Let's try this"
   ]
  },
  {
   "cell_type": "code",
   "execution_count": null,
   "metadata": {
    "collapsed": false,
    "scrolled": true
   },
   "outputs": [],
   "source": [
    "### set gamma for each telescopes :\n",
    "\n",
    "your_event.telescopes[0].gamma = 0.5\n",
    "your_event.telescopes[1].gamma = 0.5\n",
    "\n",
    "### Fit again\n",
    "your_event.fit(model_2,'LM')\n",
    "\n",
    "your_event.fits[-1].produce_outputs()\n",
    "print ('Chi2_LM :',your_event.fits[-1].outputs.fit_parameters.chichi)\n",
    "plt.show()"
   ]
  },
  {
   "cell_type": "markdown",
   "metadata": {},
   "source": [
    "Wrong back! What is going on here? Maybe the LM method is confused by the limb-darkening coefficients? Let's try something else."
   ]
  },
  {
   "cell_type": "code",
   "execution_count": null,
   "metadata": {
    "collapsed": false
   },
   "outputs": [],
   "source": [
    "# We can use a previous good fit for starting initial parameters as guesses\n",
    "\n",
    "initial_parameters = [ getattr(your_event.fits[-2].outputs.fit_parameters, key) for \n",
    "                      key in your_event.fits[-2].outputs.fit_parameters._fields[:4]]\n",
    "print(initial_parameters)\n",
    "model_2.parameters_guess = initial_parameters\n",
    "\n",
    "#Fit again\n",
    "your_event.fit(model_2,'LM')\n",
    "\n",
    "your_event.fits[-1].produce_outputs()\n",
    "print ('Chi2_LM :',your_event.fits[-1].outputs.fit_parameters.chichi)\n",
    "plt.show()\n"
   ]
  },
  {
   "cell_type": "markdown",
   "metadata": {
    "collapsed": true
   },
   "source": [
    "This looks good. We can confirm with the DE method."
   ]
  },
  {
   "cell_type": "code",
   "execution_count": null,
   "metadata": {
    "collapsed": false
   },
   "outputs": [],
   "source": [
    "### Fit again, and wait the figures....\n",
    "your_event.fit(model_2,'DE')\n",
    "\n",
    "your_event.fits[-1].produce_outputs()\n",
    "print ('Chi2_DE :',your_event.fits[-1].outputs.fit_parameters.chichi)\n",
    "plt.show()"
   ]
  },
  {
   "cell_type": "markdown",
   "metadata": {},
   "source": [
    "That is similar fit Chi^2. \n",
    "\n",
    "Here we go! \n",
    "\n",
    "You can zoom close to the peak to see what is going on. CLOSE THE FIGURE TO CONTINUE.\n",
    "\n",
    "Let's compare the fitting values with the injected model :"
   ]
  },
  {
   "cell_type": "code",
   "execution_count": null,
   "metadata": {
    "collapsed": false
   },
   "outputs": [],
   "source": [
    "print ('Parameters', ' Model','   Fit','     Errors')\n",
    "print ('-----------------------------------')\n",
    "print ('t_o', '        79.9309 ',str(your_event.fits[-1].outputs.fit_parameters.to)[:7],'',str(your_event.fits[-1].outputs.fit_errors.err_to)[:7])\n",
    "print ('u_o', '        0.00826 ',str(your_event.fits[-1].outputs.fit_parameters.uo)[:7],'',str(your_event.fits[-1].outputs.fit_errors.err_uo)[:7])\n",
    "print ('t_E', '        10.1171 ',str(your_event.fits[-1].outputs.fit_parameters.tE)[:7],'',str(your_event.fits[-1].outputs.fit_errors.err_tE)[:7])\n",
    "print ('rho', '        0.02268 ',str(your_event.fits[-1].outputs.fit_parameters.rho)[:7],'',str(your_event.fits[-1].outputs.fit_errors.err_rho)[:7])\n",
    "print ('fs_OGLE', '    2915.76 ',str(your_event.fits[-1].outputs.fit_parameters.fs_OGLE)[:7],'',str(your_event.fits[-1].outputs.fit_errors.err_fs_OGLE)[:7])\n",
    "print ('g_OGLE', '     0.07195 ',str(your_event.fits[-1].outputs.fit_parameters.g_OGLE)[:7],'',str(your_event.fits[-1].outputs.fit_errors.err_g_OGLE)[:7])\n",
    "print ('fs_LCOGT', '   92936.7 ',str(your_event.fits[-1].outputs.fit_parameters.fs_LCOGT)[:7],'',str(your_event.fits[-1].outputs.fit_errors.err_fs_LCOGT)[:7])\n",
    "print ('g_LCOGT', '    0.52460 ',str(your_event.fits[-1].outputs.fit_parameters.g_LCOGT)[:7],'',str(your_event.fits[-1].outputs.fit_errors.err_g_LCOGT)[:7])\n",
    "\n",
    "\n",
    "\n"
   ]
  },
  {
   "cell_type": "markdown",
   "metadata": {},
   "source": [
    "# Bonus Track #\n",
    "What about some MCMC?"
   ]
  },
  {
   "cell_type": "code",
   "execution_count": null,
   "metadata": {
    "collapsed": false,
    "scrolled": true
   },
   "outputs": [],
   "source": [
    "### Fit again, but using MCMC now. TAKE A WHILE....Wait until figures pop up.\n",
    "your_event.fit(model_2,'MCMC',flux_estimation_MCMC='polyfit')\n",
    "print ('The fitting process is finished now, let produce some outputs....')\n",
    "\n",
    "your_event.fits[-1].produce_outputs()\n",
    "\n",
    "plt.show()"
   ]
  },
  {
   "cell_type": "code",
   "execution_count": null,
   "metadata": {
    "collapsed": true
   },
   "outputs": [],
   "source": []
  }
 ],
 "metadata": {
  "celltoolbar": "Edit Metadata",
  "kernelspec": {
   "display_name": "Python 3",
   "language": "python",
   "name": "python3"
  },
  "language_info": {
   "codemirror_mode": {
    "name": "ipython",
    "version": 3
   },
   "file_extension": ".py",
   "mimetype": "text/x-python",
   "name": "python",
   "nbconvert_exporter": "python",
   "pygments_lexer": "ipython3",
   "version": "3.5.2"
  }
 },
 "nbformat": 4,
 "nbformat_minor": 0
}
