{
 "cells": [
  {
   "cell_type": "markdown",
   "metadata": {},
   "source": [
    "# Welcome to pyLIMA tutorial! #\n",
    "\n",
    "This second example will give you some basics about parameters change.\n",
    "\n",
    "If you do not like the pyLIMA standard parameters, this is made for you.\n",
    "\n",
    "We gonna fit the same lightcurves but using different parametrization.\n",
    "\n",
    "\n",
    "\n"
   ]
  },
  {
   "cell_type": "code",
   "execution_count": null,
   "metadata": {},
   "outputs": [],
   "source": [
    "### First import the required libraries\n",
    "%matplotlib notebook\n",
    "import numpy as np\n",
    "import matplotlib.pyplot as plt\n",
    "import os, sys\n",
    "lib_path = os.path.abspath(os.path.join('../'))\n",
    "sys.path.append(lib_path)\n",
    "\n",
    "from pyLIMA import event\n",
    "from pyLIMA import telescopes\n",
    "from pyLIMA import microlmodels\n",
    "\n",
    "### Create an event object. You can choose the name and RA,DEC in degrees :\n",
    "\n",
    "your_event = event.Event()\n",
    "your_event.name = 'your choice'\n",
    "your_event.ra = 269.39166666666665 \n",
    "your_event.dec = -29.22083333333333\n",
    "\n",
    "### Now we need some observations. That's good, we obtain some data on two\n",
    "### telescopes. Both are in I band and magnitude units :\n",
    "\n",
    "data_1 = np.loadtxt('./Survey_1.dat')\n",
    "telescope_1 = telescopes.Telescope(name='OGLE', camera_filter='I', light_curve_magnitude=data_1)\n",
    "\n",
    "data_2 = np.loadtxt('./Followup_1.dat')\n",
    "telescope_2 = telescopes.Telescope(name='LCOGT', camera_filter='I', light_curve_magnitude=data_2)\n",
    "\n",
    "### Add the telescopes to your event :\n",
    "your_event.telescopes.append(telescope_1)\n",
    "your_event.telescopes.append(telescope_2)\n",
    "\n",
    "### Find the survey telescope :\n",
    "your_event.find_survey('OGLE')\n",
    "\n",
    "### Sanity check\n",
    "your_event.check_event()\n",
    "\n",
    "\n",
    "### set gamma for each telescopes :\n",
    "\n",
    "your_event.telescopes[0].gamma = 0.5\n",
    "your_event.telescopes[1].gamma = 0.5\n",
    "\n",
    "\n",
    "### Let's go basic for FSPL :\n",
    "model_1 = microlmodels.create_model('FSPL', your_event)\n",
    "\n",
    "### Let's cheat and use the results from example_1 :\n",
    "\n",
    "model_1.parameters_guess = [79.9, 0.008, 10.1, 0.023]\n",
    "\n",
    "your_event.fit(model_1,'LM')\n",
    "\n",
    "### Plot the results\n",
    "\n",
    "your_event.fits[-1].produce_outputs()\n",
    "print 'Chi2_LM :',your_event.fits[-1].outputs.fit_parameters.chichi\n",
    "print 'Fit parameters : ', your_event.fits[-1].fit_results\n",
    "plt.show()"
   ]
  },
  {
   "cell_type": "markdown",
   "metadata": {},
   "source": [
    "All right, look OK. But let's say you dislike the rho parameter. Let's assume you prefer fitting using log(rho). Let's see."
   ]
  },
  {
   "cell_type": "code",
   "execution_count": null,
   "metadata": {},
   "outputs": [],
   "source": [
    "### Start from blind\n",
    "model_1.parameters_guess = []\n",
    "\n",
    "\n",
    "### We need to tell pyLIMA what kind of change we want :\n",
    "\n",
    "model_1.fancy_to_pyLIMA_dictionnary = {'logrho': 'rho'} \n",
    "# This means we change rho by log(rho) in the fitting process.\n",
    "\n",
    "### We need now to explain the mathematical transformation (here we choosed log_10) :\n",
    "\n",
    "model_1.pyLIMA_to_fancy = {'logrho': lambda parameters: np.log10(parameters.rho) }\n",
    "\n",
    "### We also need to explain the inverse mathematical transformation :\n",
    "\n",
    "model_1.fancy_to_pyLIMA = {'rho': lambda parameters: 10 ** parameters.logrho}\n",
    "\n",
    "\n",
    "### That's it, let's fit!\n",
    "your_event.fit(model_1,'LM')\n",
    "\n",
    "your_event.fits[-1].produce_outputs()\n",
    "print 'Chi2_LM :',your_event.fits[-1].outputs.fit_parameters.chichi\n",
    "print 'Log rho : ',your_event.fits[-1].outputs.fit_parameters.logrho\n",
    "print 'Corresponding rho : ',10**your_event.fits[-1].outputs.fit_parameters.logrho\n",
    "\n",
    "plt.show()\n",
    "\n",
    "\n"
   ]
  },
  {
   "cell_type": "markdown",
   "metadata": {
    "collapsed": true
   },
   "source": [
    "It works great! \n",
    "\n",
    "OK, you want something more complicated  now : tstar = rho.tE, logrho = log(rho)."
   ]
  },
  {
   "cell_type": "code",
   "execution_count": null,
   "metadata": {},
   "outputs": [],
   "source": [
    "### We need to tell pyLIMA what kind of change we want :\n",
    "\n",
    "model_1.fancy_to_pyLIMA_dictionnary = {'logrho': 'rho', 'tstar':'tE'} \n",
    "# This means we change rho by log(rho) and tE by tstar in the fitting process.\n",
    "\n",
    "### We need now to explain the mathematical transformation :\n",
    "\n",
    "model_1.pyLIMA_to_fancy = {'logrho': lambda parameters: np.log10(parameters.rho), \n",
    "                           'tstar':lambda parameters: parameters.rho*parameters.tE}\n",
    "\n",
    "### We also need to explain the inverse mathematical transformation :\n",
    "\n",
    "model_1.fancy_to_pyLIMA = {'rho': lambda parameters: 10 ** parameters.logrho,\n",
    "                          'tE':lambda parameters: parameters.tstar/10 ** parameters.logrho}\n",
    "\n",
    "\n",
    "### That's it, let's fit!\n",
    "your_event.fit(model_1,'LM')\n",
    "\n",
    "your_event.fits[-1].produce_outputs()\n",
    "print 'Chi2_LM :',your_event.fits[-1].outputs.fit_parameters.chichi\n",
    "print 'tstar : ',your_event.fits[-1].outputs.fit_parameters.tstar\n",
    "print 'Corresponding tE: ',your_event.fits[-1].outputs.fit_parameters.tstar/10**your_event.fits[-1].outputs.fit_parameters.logrho\n",
    "\n",
    "print 'Log rho : ',your_event.fits[-1].outputs.fit_parameters.logrho\n",
    "print 'Corresponding rho : ',10**your_event.fits[-1].outputs.fit_parameters.logrho\n",
    "\n",
    "plt.show()\n",
    "\n"
   ]
  },
  {
   "cell_type": "code",
   "execution_count": null,
   "metadata": {},
   "outputs": [],
   "source": [
    "### And what about the DE method? You need one more step before using these methods with fancy parameters. \n",
    "### Take back the precedent example, we need to change the \"parameters_boundaries\" :\n",
    "\n",
    "### Change tE boundaries to tstar boundaries (i.e [log10(rhomin)*tEmin, log10(rhomax)*tEmax]) :\n",
    "model_1.parameters_boundaries[2] = [10**-5, 300 ]\n",
    "\n",
    "### Change rho boundaries to logrho boundaries (i.e [log10(rhomin), log10(rhomax)]) :\n",
    "model_1.parameters_boundaries[3] = [-5, -1]\n",
    "\n",
    "\n",
    "### Let's try it!:\n",
    "your_event.fit(model_1,'DE')\n",
    "\n",
    "\n",
    "your_event.fits[-1].produce_outputs()\n",
    "\n",
    "print 'Chi2_DE :',your_event.fits[-1].outputs.fit_parameters.chichi\n",
    "\n",
    "print 'tstar : ',your_event.fits[-1].outputs.fit_parameters.tstar\n",
    "\n",
    "print 'Corresponding tE: ',your_event.fits[-1].outputs.fit_parameters.tstar/10**your_event.fits[-1].outputs.fit_parameters.logrho\n",
    "\n",
    "\n",
    "\n",
    "print 'Log rho : ',your_event.fits[-1].outputs.fit_parameters.logrho\n",
    "\n",
    "print 'Corresponding rho : ',10**your_event.fits[-1].outputs.fit_parameters.logrho\n",
    "\n",
    "\n",
    "plt.show()\n",
    "\n",
    "\n",
    "\n"
   ]
  },
  {
   "cell_type": "markdown",
   "metadata": {},
   "source": [
    "# Bonus Track #\n",
    "What about some MCMC?"
   ]
  },
  {
   "cell_type": "code",
   "execution_count": null,
   "metadata": {},
   "outputs": [],
   "source": [
    "### Let's win some times by injecting some previous results\n",
    "\n",
    "model_1.parameters_guess = [79.9, 0.008, 0.22849, -1.6459]\n",
    "\n",
    "### Fit again, but using MCMC now. TAKE A WHILE....Wait until figures pop up.\n",
    "your_event.fit(model_1,'MCMC',flux_estimation_MCMC='MCMC')\n",
    "print 'The fitting process is finished now, let produce some outputs....'\n",
    "\n",
    "your_event.fits[-1].produce_outputs()\n",
    "\n",
    "plt.show()"
   ]
  },
  {
   "cell_type": "code",
   "execution_count": null,
   "metadata": {
    "collapsed": true
   },
   "outputs": [],
   "source": []
  }
 ],
 "metadata": {
  "kernelspec": {
   "display_name": "Python 3",
   "language": "python",
   "name": "python3"
  },
  "language_info": {
   "codemirror_mode": {
    "name": "ipython",
    "version": 3
   },
   "file_extension": ".py",
   "mimetype": "text/x-python",
   "name": "python",
   "nbconvert_exporter": "python",
   "pygments_lexer": "ipython3",
   "version": "3.5.2"
  }
 },
 "nbformat": 4,
 "nbformat_minor": 1
}
