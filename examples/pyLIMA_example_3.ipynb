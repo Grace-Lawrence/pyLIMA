{
 "cells": [
  {
   "cell_type": "markdown",
   "metadata": {},
   "source": [
    "# Welcome to pyLIMA tutorial! #\n",
    "\n",
    "Let's simulate, and fit back :), some events.\n",
    "\n",
    "Do not forget, if not made already. To obtain working link to the documentation, you need to :\n",
    "\n",
    "make html\n",
    "\n",
    "in the doc directory.\n",
    "\n"
   ]
  },
  {
   "cell_type": "code",
   "execution_count": null,
   "metadata": {
    "collapsed": false
   },
   "outputs": [],
   "source": [
    "## First import the required libraries\n",
    "%matplotlib notebook\n",
    "import numpy as np\n",
    "import matplotlib.pyplot as plt\n",
    "import os, sys\n",
    "\n",
    "\n",
    "#lib_path = os.path.abspath(os.path.join('../'))\n",
    "#sys.path.append(lib_path)\n",
    "\n",
    "from pyLIMA import microlsimulator"
   ]
  },
  {
   "cell_type": "markdown",
   "metadata": {},
   "source": [
    "Create your event. This function create an event class, more details here [pyLIMA documentation](file/../../doc/build/html/pyLIMA.event.html)"
   ]
  },
  {
   "cell_type": "code",
   "execution_count": null,
   "metadata": {
    "collapsed": false
   },
   "outputs": [],
   "source": [
    "# Event : Name = A spectacular double source point lens', RA = 270, DEC = -30\n",
    "\n",
    "my_own_creation = microlsimulator.simulate_a_microlensing_event(name ='A spectacular double source point lens', \n",
    "                                                                ra=270, dec=-30)"
   ]
  },
  {
   "cell_type": "markdown",
   "metadata": {},
   "source": [
    "Create some telescopes. This function create a telescope class, more details here [pyLIMA documentation](file/../../doc/build/html/pyLIMA.telescopes.html)\n",
    "You need to create a telescope class for each filter with a different name. For example here, SAAO_I and SAAO_V.\n",
    "\n",
    "We need to build telescopes before the model that we gonna simulate because models need informations about filters and how many telescopes did observe your simulation."
   ]
  },
  {
   "cell_type": "code",
   "execution_count": null,
   "metadata": {
    "collapsed": false
   },
   "outputs": [],
   "source": [
    "# Create some telescopes\n",
    "\n",
    "# Name = survey,your_event, location = 'Earth', start_obs =2457465.500000, end_obs = 2457665.500000,\n",
    "# sampling(hours) = 4, location='Earth', uniform_sampling=False, filter = 'I', altitude = 1000 m, longitude = -109.285399, \n",
    "# latitude = -27.130814, bad_weather_percentage = 10%, moon_windows_avoidance (degree)=30, \n",
    "# minimum_alt=30)\n",
    "my_survey = microlsimulator.simulate_a_telescope('survey',my_own_creation, 2457365.500000,2457965.500000,4, 'Earth','I',\n",
    "                                                  uniform_sampling=False, altitude=1000, longitude = -109.285399, latitude = -27.130, \n",
    "                                                  bad_weather_percentage=10.0 / 100, moon_windows_avoidance=30, \n",
    "                                                  minimum_alt=30)\n",
    "\n",
    "\n",
    "# Name = SAAO_I,your_event, location = 'Earth', start_obs =2457585.5, end_obs = 2457615.5,\n",
    "# sampling(hours) = 2, location='Earth', uniform_sampling=False, filter = 'I', altitude = 400 m, longitude = 20.659279, \n",
    "# latitude = -32.3959, bad_weather_percentage = 20%, mmoon_windows_avoidance (degree)=15, \n",
    "# minimum_alt=15)\n",
    "my_own_telescope_1 = microlsimulator.simulate_a_telescope('SAAO_I',my_own_creation,  2457585.5, 2457615.5,2, 'Earth','I',\n",
    "                                                          uniform_sampling=False, altitude=400, longitude = 20.659279, latitude = -32.3959, \n",
    "                                                          bad_weather_percentage=20.0 / 100, moon_windows_avoidance=20, \n",
    "                                                          minimum_alt=15)\n",
    "# Name = SAAO_V,your_event, location = 'Earth', start_obs =2457585.5, end_obs = 2457615.5,\n",
    "# sampling(hours) = 12, location='Earth', uniform_sampling=False, filter = 'V', altitude = 400 m, longitude = 20.659279, \n",
    "# latitude = -32.3959, bad_weather_percentage = 20%, mmoon_windows_avoidance (degree)=15, \n",
    "# minimum_alt=15)\n",
    "my_own_telescope_2 = microlsimulator.simulate_a_telescope('SAAO_V',my_own_creation,  2457585.5, 2457615.5,2, 'Earth','V',\n",
    "                                                          uniform_sampling=False, altitude=400, longitude = 20.659279, latitude = -32.3959, \n",
    "                                                          bad_weather_percentage=20.0 / 100, moon_windows_avoidance=20, \n",
    "                                                          minimum_alt=15)\n",
    "\n",
    "# Add them to your event\n",
    "my_own_creation.telescopes.append(my_survey)\n",
    "my_own_creation.telescopes.append(my_own_telescope_1)\n",
    "my_own_creation.telescopes.append(my_own_telescope_2)\n",
    "\n",
    "\n",
    "### If you want to simulate a event from space, you can use :\n",
    "\n",
    "#my_space_telescope = microlsimulator.simulate_a_telescope('Gaia',my_own_creation,  2457585.5, 2457615.5,2, 'Space','G',\n",
    "#                                                          uniform_sampling=True, spacecraft_name='Gaia')\n",
    "# Note that the spacecraft name shoudl match JPL horizon ephemeris, see microlparallax. If you include this \n",
    "# telescope in your analysis, you will need to give to the model parallax = ['Full,to_par] in order to have \n",
    "# correct simulation. \n"
   ]
  },
  {
   "cell_type": "markdown",
   "metadata": {},
   "source": [
    "OK now we can choose the model we would like to simulate, here let's have a double source point lens one (DSPL). More details on models can be seen here [pyLIMA documentation](file/../../doc/build/html/pyLIMA.microlmodels.html)\n",
    "\n",
    "More details on parameters generation can be found here [pyLIMA documentation](file/../../doc/build/html/pyLIMA.microlsimulator.html)"
   ]
  },
  {
   "cell_type": "code",
   "execution_count": null,
   "metadata": {
    "collapsed": false
   },
   "outputs": [],
   "source": [
    "# What model you want? Let's have DSPL!\n",
    "my_own_model = microlsimulator.simulate_a_microlensing_model(my_own_creation, model='DSPL', parallax=['None', 0.0],\n",
    "                                             xallarap=['None', 0.0],\n",
    "                                             orbital_motion=['None', 0.0], source_spots='None')\n",
    "\n",
    "# Find some model parameters. If you want specific parameters, you need to respet pyLIMA convention when you create your \n",
    "# parameters. For the DSPL example, my_own_parameters = [to, uo, delta_to, delta_uo, tE].\n",
    "my_own_parameters = microlsimulator.simulate_microlensing_model_parameters(my_own_model)\n",
    "\n",
    "# Which source magnitude? Which blending? \n",
    "# Same here, you can create your own flux parameters with the convention\n",
    "# [ [magnitude_source_i, blending ratio_i]] for i in telescopes. In our case it looks : \n",
    "# [ [magnitude_source_survey, blending ratio_survey], [ magnitude_source_SAAO_I, blending ratio_SAAO_I],  \n",
    "# [magnitude_source_SAAO_V, blending ratio_SAAO_V]], i.e [[18.5,0.3],[19.5,1.2],[20.2,1.6]] (example).\n",
    "\n",
    "my_own_flux_parameters = microlsimulator.simulate_fluxes_parameters(my_own_creation.telescopes)\n",
    "my_own_parameters += my_own_flux_parameters\n"
   ]
  },
  {
   "cell_type": "markdown",
   "metadata": {},
   "source": [
    "Now we need to transform these parameters into a parameter class object (this is a \"technical\" part but the interested reader can found the function here  [pyLIMA documentation](file/../../doc/build/html/pyLIMA.microlmodels.html))"
   ]
  },
  {
   "cell_type": "code",
   "execution_count": null,
   "metadata": {
    "collapsed": false
   },
   "outputs": [],
   "source": [
    "# Transform into pyLIMA standards\n",
    "pyLIMA_parameters = my_own_model.compute_pyLIMA_parameters(my_own_parameters)\n"
   ]
  },
  {
   "cell_type": "markdown",
   "metadata": {},
   "source": [
    "Ok now we have the model we want to simulate, we then need to updates our telescopes observations!"
   ]
  },
  {
   "cell_type": "code",
   "execution_count": null,
   "metadata": {
    "collapsed": false
   },
   "outputs": [],
   "source": [
    "# update the telescopes lightcurve in your event :\n",
    "microlsimulator.simulate_lightcurve_flux(my_own_model, pyLIMA_parameters,  red_noise_apply='Yes')\n"
   ]
  },
  {
   "cell_type": "markdown",
   "metadata": {},
   "source": [
    "That's it, our simulation is done! Let see how it looks :"
   ]
  },
  {
   "cell_type": "code",
   "execution_count": null,
   "metadata": {
    "collapsed": false
   },
   "outputs": [],
   "source": [
    "#### Plot it!\n",
    "\n",
    "for telescope in my_own_creation.telescopes:\n",
    "    plt.errorbar(telescope.lightcurve_magnitude[:, 0]-2450000, telescope.lightcurve_magnitude[:, 1],\n",
    "                 yerr=telescope.lightcurve_magnitude[:, 2], fmt='.',label=telescope.name)\n",
    "\n",
    "    \n",
    "# A list of commentary to explain parameters. Of couse, this is valable only for the DSPL models.\n",
    "parameter_commentary = ['time of minimum impact parameter for source 1',\n",
    "                        'minimum impact parameter for source 1',\n",
    "                        'difference of time of minimum impact parameter between the two sources',\n",
    "                        'difference of minimum impact parameters between the two sources',\n",
    "                        'angular Einstein radius crossing time',\n",
    "                        'flux ratio in I between source 1 and source 2',\n",
    "                        'flux ratio in V between source 1 and source 2',\n",
    "                        'source flux of source 1 for telescope survey',\n",
    "                        'blending ratio of source 1 for telescope survey',\n",
    "                        'source flux of source 1 for telescope SAAO_I',\n",
    "                        'blending ratio of source 1 for telescope SAAO_I',\n",
    "                        'source flux of source 1 for telescope SAAO_V',\n",
    "                        'blending ratio of source 1 for telescope SAAO_V',\n",
    "                        ]\n",
    "for key in my_own_model.model_dictionnary.keys():\n",
    "    indice = my_own_model.model_dictionnary[key]\n",
    "    \n",
    "    print key, ' = ', my_own_parameters[indice], ' : ', parameter_commentary[indice] \n",
    "\n",
    "plt.gca().invert_yaxis()\n",
    "plt.legend(numpoints=1)\n",
    "plt.grid(True)\n",
    "plt.show()"
   ]
  },
  {
   "cell_type": "markdown",
   "metadata": {},
   "source": [
    "Let's try to fit this now! You can go back to pyLIMA_example_1 for a more complete explanation if needed.\n",
    "\n",
    "Look in particular your DSPL fit parameters versus the model above."
   ]
  },
  {
   "cell_type": "code",
   "execution_count": null,
   "metadata": {
    "collapsed": false
   },
   "outputs": [],
   "source": [
    "from pyLIMA import microlmodels\n",
    "\n",
    "model_1 = microlmodels.create_model('PSPL', my_own_creation)\n",
    "my_own_creation.fit(model_1,'DE')\n",
    "\n",
    "model_2 = microlmodels.create_model('DSPL', my_own_creation)\n",
    "my_own_creation.fit(model_2,'DE')\n",
    "\n",
    "my_own_creation.fits[0].produce_outputs()\n",
    "my_own_creation.fits[1].produce_outputs()\n",
    "\n",
    "print my_own_creation.fits[0].model.model_type,'Chi2_LM :',my_own_creation.fits[0].outputs.fit_parameters.chichi\n",
    "print my_own_creation.fits[1].model.model_type,'Chi2_LM :',my_own_creation.fits[1].outputs.fit_parameters.chichi\n",
    "\n",
    "plt.show()"
   ]
  },
  {
   "cell_type": "markdown",
   "metadata": {
    "collapsed": true
   },
   "source": []
  },
  {
   "cell_type": "code",
   "execution_count": null,
   "metadata": {
    "collapsed": true
   },
   "outputs": [],
   "source": []
  },
  {
   "cell_type": "code",
   "execution_count": null,
   "metadata": {
    "collapsed": true
   },
   "outputs": [],
   "source": []
  }
 ],
 "metadata": {
  "kernelspec": {
   "display_name": "Python 2",
   "language": "python",
   "name": "python2"
  },
  "language_info": {
   "codemirror_mode": {
    "name": "ipython",
    "version": 2
   },
   "file_extension": ".py",
   "mimetype": "text/x-python",
   "name": "python",
   "nbconvert_exporter": "python",
   "pygments_lexer": "ipython2",
   "version": "2.7.12"
  }
 },
 "nbformat": 4,
 "nbformat_minor": 0
}
