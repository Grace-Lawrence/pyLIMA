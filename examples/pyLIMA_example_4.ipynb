{
 "cells": [
  {
   "cell_type": "markdown",
   "metadata": {},
   "source": [
    "# Welcome to pyLIMA tutorial! #\n",
    "\n",
    "We gonna see how to use your fancy fitting method and/or a different objective function\n",
    "instead of the standard pyLIMA fitting routines. We take the same example as example 1."
   ]
  },
  {
   "cell_type": "code",
   "execution_count": null,
   "metadata": {
    "collapsed": true
   },
   "outputs": [],
   "source": [
    "### First import the required libraries\n",
    "%matplotlib notebook\n",
    "import numpy as np\n",
    "import matplotlib.pyplot as plt\n",
    "import os, sys\n",
    "\n",
    "\n",
    "from pyLIMA import event\n",
    "from pyLIMA import telescopes\n",
    "from pyLIMA import microlmodels"
   ]
  },
  {
   "cell_type": "code",
   "execution_count": null,
   "metadata": {},
   "outputs": [],
   "source": [
    "### Create an event object. You can choose the name and RA,DEC in degrees :\n",
    "\n",
    "your_event = event.Event()\n",
    "your_event.name = 'your choice'\n",
    "your_event.ra = 269.39166666666665 \n",
    "your_event.dec = -29.22083333333333\n",
    "\n",
    "## Now we need some observations. That's good, we obtain some data on two\n",
    "### telescopes. Both are in I band and magnitude units :\n",
    "\n",
    "data_1 = np.loadtxt('./Survey_1.dat')\n",
    "telescope_1 = telescopes.Telescope(name='OGLE', camera_filter='I', light_curve_magnitude=data_1)\n",
    "\n",
    "data_2 = np.loadtxt('./Followup_1.dat')\n",
    "telescope_2 = telescopes.Telescope(name='LCOGT', camera_filter='I', light_curve_magnitude=data_2)\n",
    "\n",
    "### Add the telescopes to your event :\n",
    "your_event.telescopes.append(telescope_1)\n",
    "your_event.telescopes.append(telescope_2)\n",
    "\n",
    "\n",
    "### set gamma for each telescopes :\n",
    "\n",
    "your_event.telescopes[0].gamma = 0.5\n",
    "your_event.telescopes[1].gamma = 0.5\n",
    "\n",
    "### Find the survey telescope :\n",
    "your_event.find_survey('OGLE')\n",
    "\n",
    "### Sanity check\n",
    "your_event.check_event()\n",
    "\n",
    "### Construct the model you want to fit. Let's go basic with a PSPL, without second_order effects :\n",
    "model_1 = microlmodels.create_model('PSPL', your_event)\n",
    "\n"
   ]
  },
  {
   "cell_type": "code",
   "execution_count": null,
   "metadata": {},
   "outputs": [],
   "source": [
    "### Now we have to define your objective function. Here we take the simple chi^2, and fit in flux unit\n",
    "\n",
    "def objective_function(fit_process_parameters, your_event, your_model):\n",
    "    \n",
    "        pyLIMA_parameters = your_model.compute_pyLIMA_parameters(fit_process_parameters)\n",
    "        \n",
    "        chichi = 0\n",
    "        for telescope in your_event.telescopes:\n",
    "            # Find the residuals of telescope observation regarding the parameters and model\n",
    "            \n",
    "            model = your_model.compute_the_microlensing_model(telescope, pyLIMA_parameters)\n",
    "            flux= telescope.lightcurve_flux[:,1]\n",
    "            errflux = telescope.lightcurve_flux[:,2]\n",
    "\n",
    "            \n",
    "            residus = (flux - model[0])/errflux \n",
    "            chichi += (residus ** 2).sum()\n",
    "        \n",
    "        return chichi\n",
    "    \n",
    "### Now we can use your fancy fitting routine. Let 's assume it is scipy.optimize.minimize\n",
    "\n",
    "import scipy.optimize as so\n",
    "\n",
    "### You need guess ....\n",
    "your_guess=[79.963, -0.01, 9.6, 0.00027]\n",
    "model_1.define_model_parameters()\n",
    "result = so.minimize(objective_function, your_guess,args=(your_event,model_1))\n",
    "\n",
    "print (result)\n"
   ]
  }
 ],
 "metadata": {
  "kernelspec": {
   "display_name": "Python 3",
   "language": "python",
   "name": "python3"
  },
  "language_info": {
   "codemirror_mode": {
    "name": "ipython",
    "version": 3
   },
   "file_extension": ".py",
   "mimetype": "text/x-python",
   "name": "python",
   "nbconvert_exporter": "python",
   "pygments_lexer": "ipython3",
   "version": "3.6.7"
  }
 },
 "nbformat": 4,
 "nbformat_minor": 2
}
