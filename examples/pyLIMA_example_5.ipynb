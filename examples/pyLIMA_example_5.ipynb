{
 "cells": [
  {
   "cell_type": "markdown",
   "metadata": {},
   "source": [
    "# Welcome to pyLIMA tutorial! #\n",
    "\n",
    "We gonna see how to fit parallax.\n"
   ]
  },
  {
   "cell_type": "code",
   "execution_count": null,
   "metadata": {
    "collapsed": true
   },
   "outputs": [],
   "source": [
    "### First import the required libraries\n",
    "%matplotlib notebook\n",
    "import numpy as np\n",
    "import matplotlib.pyplot as plt\n",
    "import os, sys\n",
    "\n",
    "\n",
    "from pyLIMA import event\n",
    "from pyLIMA import telescopes\n",
    "from pyLIMA import microlmodels"
   ]
  },
  {
   "cell_type": "code",
   "execution_count": null,
   "metadata": {
    "collapsed": false
   },
   "outputs": [],
   "source": [
    "### Create an event object. You can choose the name and RA,DEC in degrees :\n",
    "\n",
    "your_event = event.Event()\n",
    "your_event.name = 'your choice'\n",
    "\n",
    "#Here RA DEC matters !! \n",
    "your_event.ra = 266.25624999999997\n",
    "\n",
    "your_event.dec = -22.261972222222223\n",
    "\n",
    "\n",
    "## Now we need some observations. That's good, we obtain some data on two\n",
    "### telescopes. Both are in I band and magnitude units :\n",
    "\n",
    "data_1 = np.loadtxt('./Survey_parallax.dat')\n",
    "telescope_1 = telescopes.Telescope(name='OGLE', camera_filter='I', light_curve_magnitude=data_1)\n",
    "\n",
    "### Add the telescopes to your event :\n",
    "your_event.telescopes.append(telescope_1)\n",
    "\n",
    "\n",
    "\n",
    "### Sanity check\n",
    "your_event.check_event()\n",
    "\n",
    "### Construct the model you want to fit. Let's go basic with a PSPL, without second_order effects :\n",
    "model_1 = microlmodels.create_model('PSPL', your_event)\n"
   ]
  },
  {
   "cell_type": "code",
   "execution_count": null,
   "metadata": {
    "collapsed": false
   },
   "outputs": [],
   "source": [
    "### Let's try with the simplest Levenvberg_Marquardt algorithm :\n",
    "your_event.fit(model_1,'LM')\n",
    "\n",
    "### Let's see some plots.\n",
    "your_event.fits[0].produce_outputs()\n",
    "print('Chi2_LM :',your_event.fits[0].outputs.fit_parameters.chichi)\n",
    "plt.show()\n"
   ]
  },
  {
   "cell_type": "code",
   "execution_count": null,
   "metadata": {
    "collapsed": false
   },
   "outputs": [],
   "source": [
    "### looks to be some residuals on the event wings, maybe parallax.\n",
    "### Lets try, you have to choose topar, the parallax time reference. Here we choose 2457850.\n",
    "model_2 = microlmodels.create_model('PSPL', your_event,parallax=['Full',2457850])\n",
    "\n",
    "# we can speed up computation, by adding guess from last fit :\n",
    "\n",
    "#################### guess =   [to,uo,tE]                                + [piEN,piEE]  \n",
    "model_2.parameters_guess = your_event.fits[0].fit_results[:3]+[0,0]\n",
    "\n",
    "your_event.fit(model_2,'LM')\n",
    "\n",
    "### Let's see some plots.\n",
    "your_event.fits[-1].produce_outputs()\n",
    "print ('Chi2_LM :',your_event.fits[-1].outputs.fit_parameters.chichi)\n",
    "plt.show()\n"
   ]
  },
  {
   "cell_type": "code",
   "execution_count": null,
   "metadata": {
    "collapsed": false
   },
   "outputs": [],
   "source": [
    "### That looks better! We can check with DE!\n",
    "your_event.fit(model_2,'DE',DE_population_size=5)\n",
    "\n",
    "### Let's see some plots.\n",
    "your_event.fits[-1].produce_outputs()\n",
    "print ('Chi2_LM :',your_event.fits[-1].outputs.fit_parameters.chichi)\n",
    "plt.show()\n"
   ]
  },
  {
   "cell_type": "code",
   "execution_count": null,
   "metadata": {
    "collapsed": false
   },
   "outputs": [],
   "source": [
    "### What about Space based parallax? Lets have a look to OB150966 :\n",
    "### http://adsabs.harvard.edu/abs/2016ApJ...819...93S\n",
    "\n",
    "\n",
    "\n",
    "your_event = event.Event()\n",
    "your_event.name = 'OB150966'\n",
    "\n",
    "#Here RA DEC matters !! \n",
    "your_event.ra = 268.75425\n",
    "\n",
    "your_event.dec = -29.047\n",
    "\n",
    "\n",
    "## Now we need some observations. That's good, we obtain some data on two\n",
    "### telescopes. Both are in I band and magnitude units :\n",
    "\n",
    "data_1 = np.loadtxt('./OGLE_OB150966.dat')\n",
    "telescope_1 = telescopes.Telescope(name='OGLE', camera_filter='I', light_curve_magnitude=data_1)\n",
    "\n",
    "data_2 = np.loadtxt('./SPITZER_OB150966.dat')\n",
    "telescope_2 = telescopes.Telescope(name='SPITZER', camera_filter='IRAC1', light_curve_magnitude=data_2)\n",
    "telescope_2.location='Space'\n",
    "telescope_2.spacecraft_name  = 'Spitzer'\n",
    "### Add the telescopes to your event :\n",
    "your_event.telescopes.append(telescope_1)\n",
    "your_event.telescopes.append(telescope_2)\n",
    "\n",
    "\n",
    "\n",
    "### Sanity check\n",
    "your_event.check_event()\n",
    "\n",
    "### Construct the model you want to fit. Let's go basic with a PSPL, without second_order effects :\n",
    "model_1 = microlmodels.create_model('PSPL', your_event)\n"
   ]
  },
  {
   "cell_type": "code",
   "execution_count": null,
   "metadata": {
    "collapsed": false
   },
   "outputs": [],
   "source": [
    "### Let's try with the simplest Levenvberg_Marquardt algorithm :\n",
    "your_event.fit(model_1,'LM')\n",
    "\n",
    "\n",
    "### Let's see some plots.\n",
    "your_event.fits[-1].produce_outputs()\n",
    "print ('Chi2_LM :',your_event.fits[-1].outputs.fit_parameters.chichi)\n",
    "plt.show()"
   ]
  },
  {
   "cell_type": "code",
   "execution_count": null,
   "metadata": {
    "collapsed": false
   },
   "outputs": [],
   "source": [
    "### Of course, not great at all! :\n",
    "\n",
    "### Construct the model with parallax centered at 2457205:\n",
    "model_2 = microlmodels.create_model('PSPL', your_event,parallax=['Full',2457205])\n",
    "your_event.fit(model_2,'DE')\n",
    "\n",
    "\n",
    "### Let's see some plots.\n",
    "your_event.fits[-1].produce_outputs()\n",
    "print ('Chi2_LM :',your_event.fits[-1].outputs.fit_parameters.chichi)\n",
    "plt.show()"
   ]
  },
  {
   "cell_type": "code",
   "execution_count": null,
   "metadata": {
    "collapsed": false
   },
   "outputs": [],
   "source": [
    "# Street et al. found piE =(0.0234, -0.238), close to your fit in principle.\n"
   ]
  }
 ],
 "metadata": {
  "kernelspec": {
   "display_name": "Python 3",
   "language": "python",
   "name": "python3"
  },
  "language_info": {
   "codemirror_mode": {
    "name": "ipython",
    "version": 3
   },
   "file_extension": ".py",
   "mimetype": "text/x-python",
   "name": "python",
   "nbconvert_exporter": "python",
   "pygments_lexer": "ipython3",
   "version": "3.5.2"
  }
 },
 "nbformat": 4,
 "nbformat_minor": 2
}
